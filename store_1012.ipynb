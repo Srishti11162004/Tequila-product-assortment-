{
  "nbformat": 4,
  "nbformat_minor": 0,
  "metadata": {
    "colab": {
      "provenance": []
    },
    "kernelspec": {
      "name": "python3",
      "display_name": "Python 3"
    },
    "language_info": {
      "name": "python"
    }
  },
  "cells": [
    {
      "cell_type": "code",
      "execution_count": 1,
      "metadata": {
        "colab": {
          "base_uri": "https://localhost:8080/",
          "height": 52
        },
        "id": "KLbgCb9zIQ67",
        "outputId": "4d0acb75-c20f-4684-a8ac-1eb722766537"
      },
      "outputs": [
        {
          "output_type": "stream",
          "name": "stdout",
          "text": [
            "Mounted at /content/drive\n"
          ]
        },
        {
          "output_type": "execute_result",
          "data": {
            "text/plain": [
              "''"
            ],
            "application/vnd.google.colaboratory.intrinsic+json": {
              "type": "string"
            }
          },
          "metadata": {},
          "execution_count": 1
        }
      ],
      "source": [
        "from google.colab import drive\n",
        "drive.mount('/content/drive')\n",
        "\"\""
      ]
    },
    {
      "cell_type": "code",
      "source": [
        "import pandas as pd\n",
        "df = pd.read_excel('/content/drive/MyDrive/test/clean_data.xlsx')"
      ],
      "metadata": {
        "id": "wb_vBI_DIWnD"
      },
      "execution_count": 2,
      "outputs": []
    },
    {
      "cell_type": "code",
      "source": [
        "az_df = df[df['state'] == 'AZ']\n",
        "unique_item_codes = az_df['item_code'].nunique()\n",
        "print(f\"Number of unique item codes in Arizona: {unique_item_codes}\")\n",
        "print(f\"Number of unique item codes: ({df['item_code'].nunique()})\")\n"
      ],
      "metadata": {
        "colab": {
          "base_uri": "https://localhost:8080/"
        },
        "id": "68NubkUhIxqR",
        "outputId": "fbf93683-2077-4c12-d9eb-32de75b71ecf"
      },
      "execution_count": 14,
      "outputs": [
        {
          "output_type": "stream",
          "name": "stdout",
          "text": [
            "Number of unique item codes in Arizona: 745\n",
            "Number of unique item codes: (1914)\n"
          ]
        }
      ]
    },
    {
      "cell_type": "code",
      "source": [
        "store_1012 = df[df['store_number'] == 1012]\n",
        "print(store_1012.info())"
      ],
      "metadata": {
        "colab": {
          "base_uri": "https://localhost:8080/"
        },
        "id": "rOodV9dOJEeu",
        "outputId": "2cada0d6-877f-4901-b045-c82b9b2619f1"
      },
      "execution_count": 15,
      "outputs": [
        {
          "output_type": "stream",
          "name": "stdout",
          "text": [
            "<class 'pandas.core.frame.DataFrame'>\n",
            "Index: 282 entries, 37960 to 38241\n",
            "Data columns (total 38 columns):\n",
            " #   Column                        Non-Null Count  Dtype  \n",
            "---  ------                        --------------  -----  \n",
            " 0   state                         282 non-null    object \n",
            " 1   item_code                     282 non-null    int64  \n",
            " 2   package_type                  282 non-null    object \n",
            " 3   sales_dollars_L52wk           282 non-null    float64\n",
            " 4   points_of_distribution_L52wk  282 non-null    float64\n",
            " 5   store_number                  282 non-null    int64  \n",
            " 6   Retail                        282 non-null    float64\n",
            " 7   L52W_in_Stock                 282 non-null    int64  \n",
            " 8   Normalized_Sales_L52W         265 non-null    float64\n",
            " 9   Sales_Bucket                  282 non-null    object \n",
            " 10  PriceZone                     282 non-null    object \n",
            " 11  Store_Size                    282 non-null    object \n",
            " 12  HH_Income>100K                282 non-null    float64\n",
            " 13  Median_HH_Income              282 non-null    int64  \n",
            " 14  Average_NetWorth              282 non-null    int64  \n",
            " 15  HaveBA                        282 non-null    float64\n",
            " 16  Hispanic                      282 non-null    float64\n",
            " 17  Asian                         282 non-null    float64\n",
            " 18  AfricanAmerican               282 non-null    float64\n",
            " 19  PopulationAge_50-70           282 non-null    float64\n",
            " 20  TequilaUnder65                282 non-null    int64  \n",
            " 21  TequilaOver65                 282 non-null    int64  \n",
            " 22  tequila_category              282 non-null    object \n",
            " 23  price_per_100_ml              282 non-null    float64\n",
            " 24  normalized_households         282 non-null    float64\n",
            " 25  price_band                    282 non-null    int64  \n",
            " 26  volatility_score              282 non-null    float64\n",
            " 27  households_density            282 non-null    object \n",
            " 28  celebrity_owned               282 non-null    int64  \n",
            " 29  Income_Category               282 non-null    object \n",
            " 30  sales_per_store               282 non-null    float64\n",
            " 31  years_open                    282 non-null    float64\n",
            " 32  search_anejo_tequila          282 non-null    int64  \n",
            " 33  score_tequila_trends          282 non-null    int64  \n",
            " 34  search_reposado_tequila       282 non-null    int64  \n",
            " 35  search_silver_tequila         282 non-null    int64  \n",
            " 36  search_cheap_tequila          282 non-null    int64  \n",
            " 37  search_best_tequila           282 non-null    int64  \n",
            "dtypes: float64(15), int64(15), object(8)\n",
            "memory usage: 85.9+ KB\n",
            "None\n"
          ]
        }
      ]
    },
    {
      "cell_type": "code",
      "source": [
        "import numpy as np\n",
        "item_codes_not_in_1012 = df[~df['item_code'].isin(store_1012['item_code'])]\n",
        "# print(item_codes_not_in_1012)\n",
        "# Create a new DataFrame with unique rows for store 1012\n",
        "new_rows = []\n",
        "for _, row in item_codes_not_in_1012.iterrows():\n",
        "    new_row = {\n",
        "        'state': 'AZ',\n",
        "        'store_number': 1012,\n",
        "        'item_code': row['item_code'],\n",
        "        'package_type': row['package_type'],\n",
        "        'Retail': row['Retail'],\n",
        "        'Sales_Bucket': 'Sales included',\n",
        "        'PriceZone': store_1012['PriceZone'].iloc[0],\n",
        "        'Store_Size': store_1012['Store_Size'].iloc[0],\n",
        "        'HH_Income>100K': store_1012['HH_Income>100K'].iloc[0],\n",
        "        'Median_HH_Income': store_1012['Median_HH_Income'].iloc[0],\n",
        "        'Average_NetWorth': store_1012['Average_NetWorth'].iloc[0],\n",
        "        'HaveBA': store_1012['HaveBA'].iloc[0],\n",
        "        'Hispanic': store_1012['Hispanic'].iloc[0],\n",
        "        'Asian': store_1012['Asian'].iloc[0],\n",
        "        'AfricanAmerican' : store_1012['AfricanAmerican'].iloc[0],\n",
        "        'PopulationAge_50-70' : store_1012['PopulationAge_50-70'].iloc[0],\n",
        "        'TequilaUnder65' : row['TequilaUnder65'],\n",
        "        'TequilaOver65' : row['TequilaOver65'],\n",
        "        'tequila_category' : row['tequila_category'],\n",
        "        'price_per_100_ml' : row['price_per_100_ml'],\n",
        "        'normalized_households': store_1012['normalized_households'].iloc[0],\n",
        "        'price_band': row['price_band'],\n",
        "        'volatility_score': row['volatility_score'],\n",
        "        'households_density': store_1012['households_density'].iloc[0],\n",
        "        'celebrity_owned': row['celebrity_owned'],\n",
        "        'Income_Category': store_1012['Income_Category'].iloc[0],\n",
        "        'years_open': store_1012['years_open'].iloc[0],\n",
        "        'search_anejo_tequila': store_1012['search_anejo_tequila'].iloc[0],\n",
        "        'score_tequila_trends': store_1012['score_tequila_trends'].iloc[0],\n",
        "        'search_reposado_tequila': store_1012['search_reposado_tequila'].iloc[0],\n",
        "        'search_silver_tequila': store_1012['search_silver_tequila'].iloc[0],\n",
        "        'search_cheap_tequila': store_1012['search_cheap_tequila'].iloc[0],\n",
        "        'search_best_tequila': store_1012['search_best_tequila'].iloc[0]\n",
        "    }\n",
        "\n",
        "    for col in df.columns:\n",
        "        if col not in new_row.keys():\n",
        "            new_row[col] = np.nan\n",
        "\n",
        "    new_rows.append(new_row)\n",
        "\n",
        "new_df = pd.DataFrame(new_rows)\n",
        "\n",
        "\n",
        "store_1012 = pd.concat([store_1012, new_df], ignore_index=True)\n",
        "\n",
        "\n",
        "store_1012 = store_1012.drop_duplicates(subset=['item_code', 'store_number'])\n",
        "\n",
        "\n",
        "\n",
        "print(store_1012.info())\n",
        "store_1012.shape"
      ],
      "metadata": {
        "colab": {
          "base_uri": "https://localhost:8080/"
        },
        "id": "vKHXcPc5K7n3",
        "outputId": "626a0b9d-a10b-426d-a4cb-792acd0ad9c2"
      },
      "execution_count": 16,
      "outputs": [
        {
          "output_type": "stream",
          "name": "stdout",
          "text": [
            "<class 'pandas.core.frame.DataFrame'>\n",
            "Index: 1914 entries, 0 to 45320\n",
            "Data columns (total 38 columns):\n",
            " #   Column                        Non-Null Count  Dtype  \n",
            "---  ------                        --------------  -----  \n",
            " 0   state                         1914 non-null   object \n",
            " 1   item_code                     1914 non-null   int64  \n",
            " 2   package_type                  1914 non-null   object \n",
            " 3   sales_dollars_L52wk           282 non-null    float64\n",
            " 4   points_of_distribution_L52wk  282 non-null    float64\n",
            " 5   store_number                  1914 non-null   int64  \n",
            " 6   Retail                        1914 non-null   float64\n",
            " 7   L52W_in_Stock                 282 non-null    float64\n",
            " 8   Normalized_Sales_L52W         265 non-null    float64\n",
            " 9   Sales_Bucket                  1914 non-null   object \n",
            " 10  PriceZone                     1914 non-null   object \n",
            " 11  Store_Size                    1914 non-null   object \n",
            " 12  HH_Income>100K                1914 non-null   float64\n",
            " 13  Median_HH_Income              1914 non-null   int64  \n",
            " 14  Average_NetWorth              1914 non-null   int64  \n",
            " 15  HaveBA                        1914 non-null   float64\n",
            " 16  Hispanic                      1914 non-null   float64\n",
            " 17  Asian                         1914 non-null   float64\n",
            " 18  AfricanAmerican               1914 non-null   float64\n",
            " 19  PopulationAge_50-70           1914 non-null   float64\n",
            " 20  TequilaUnder65                1914 non-null   int64  \n",
            " 21  TequilaOver65                 1914 non-null   int64  \n",
            " 22  tequila_category              1914 non-null   object \n",
            " 23  price_per_100_ml              1914 non-null   float64\n",
            " 24  normalized_households         1914 non-null   float64\n",
            " 25  price_band                    1914 non-null   int64  \n",
            " 26  volatility_score              1914 non-null   float64\n",
            " 27  households_density            1914 non-null   object \n",
            " 28  celebrity_owned               1914 non-null   int64  \n",
            " 29  Income_Category               1914 non-null   object \n",
            " 30  sales_per_store               282 non-null    float64\n",
            " 31  years_open                    1914 non-null   float64\n",
            " 32  search_anejo_tequila          1914 non-null   int64  \n",
            " 33  score_tequila_trends          1914 non-null   int64  \n",
            " 34  search_reposado_tequila       1914 non-null   int64  \n",
            " 35  search_silver_tequila         1914 non-null   int64  \n",
            " 36  search_cheap_tequila          1914 non-null   int64  \n",
            " 37  search_best_tequila           1914 non-null   int64  \n",
            "dtypes: float64(16), int64(14), object(8)\n",
            "memory usage: 583.2+ KB\n",
            "None\n"
          ]
        },
        {
          "output_type": "execute_result",
          "data": {
            "text/plain": [
              "(1914, 38)"
            ]
          },
          "metadata": {},
          "execution_count": 16
        }
      ]
    },
    {
      "cell_type": "code",
      "source": [
        "store_1012['item_code'].nunique()"
      ],
      "metadata": {
        "colab": {
          "base_uri": "https://localhost:8080/"
        },
        "id": "Ozj015FfMcy8",
        "outputId": "8bb06e94-b3c4-4519-bd2d-a8898de82dc4"
      },
      "execution_count": 17,
      "outputs": [
        {
          "output_type": "execute_result",
          "data": {
            "text/plain": [
              "1914"
            ]
          },
          "metadata": {},
          "execution_count": 17
        }
      ]
    },
    {
      "cell_type": "code",
      "source": [
        "import pandas as pd\n",
        "import numpy as np\n",
        "\n",
        "\n",
        "store_1012['sales_adjusted'] = store_1012['item_code'].map(\n",
        "    df[df['state'] == 'AZ'].groupby('item_code')['sales_dollars_L52wk'].mean()\n",
        ") * store_1012['normalized_households']\n",
        "\n",
        "store_1012['sales_dollars_L52wk'] = np.where(\n",
        "    store_1012['sales_dollars_L52wk'].isna(),\n",
        "    store_1012['sales_adjusted'],\n",
        "    store_1012['sales_dollars_L52wk']\n",
        ")\n",
        "\n",
        "\n",
        "store_1012['sales_adjusted2'] = store_1012.set_index(['state', 'Retail']).index.map(\n",
        "    df[df['state'] == 'AZ'].groupby(['state', 'Retail'])['sales_dollars_L52wk'].mean()\n",
        ") * store_1012['normalized_households']\n",
        "\n",
        "store_1012['sales_dollars_L52wk'] = np.where(\n",
        "    store_1012['sales_dollars_L52wk'].isna(),\n",
        "    store_1012['sales_adjusted2'],\n",
        "    store_1012['sales_dollars_L52wk']\n",
        ")\n",
        "\n",
        "\n",
        "store_1012['sales_adjusted3'] = store_1012['Retail'].map(\n",
        "    df[df['state'] == 'AZ'].groupby('Retail')['sales_dollars_L52wk'].mean()\n",
        ") * store_1012['normalized_households']\n",
        "\n",
        "store_1012['sales_dollars_L52wk'] = np.where(\n",
        "    store_1012['sales_dollars_L52wk'].isna(),\n",
        "    store_1012['sales_adjusted3'],\n",
        "    store_1012['sales_dollars_L52wk']\n",
        ")\n",
        "\n",
        "\n",
        "store_1012['price_band'] = pd.cut(\n",
        "    store_1012['Retail'],\n",
        "    bins=[-np.inf, 20, 65, 150, np.inf],\n",
        "    labels=[1, 2, 3, 4]\n",
        ")\n",
        "\n",
        "store_1012['sales_adjusted4'] = store_1012.set_index(['state', 'price_band']).index.map(\n",
        "    df[df['state'] == 'AZ'].groupby(['state', 'price_band'])['sales_dollars_L52wk'].mean()\n",
        ") * store_1012['normalized_households']\n",
        "\n",
        "store_1012['sales_dollars_L52wk'] = np.where(\n",
        "    store_1012['sales_dollars_L52wk'].isna(),\n",
        "    store_1012['sales_adjusted4'],\n",
        "    store_1012['sales_dollars_L52wk']\n",
        ")\n",
        "\n",
        "\n",
        "store_1012.drop(['sales_adjusted', 'sales_adjusted2', 'sales_adjusted3', 'sales_adjusted4'], axis=1, inplace=True)\n",
        "\n",
        "\n",
        "print(store_1012['sales_dollars_L52wk'].describe())\n"
      ],
      "metadata": {
        "colab": {
          "base_uri": "https://localhost:8080/"
        },
        "id": "ekqjvkAY9DFR",
        "outputId": "5702ebb2-54d4-43ec-fc36-02166c49ab78"
      },
      "execution_count": 18,
      "outputs": [
        {
          "output_type": "stream",
          "name": "stdout",
          "text": [
            "count    1.914000e+03\n",
            "mean     3.731136e+04\n",
            "std      2.042166e+05\n",
            "min      0.000000e+00\n",
            "25%      1.064128e+03\n",
            "50%      3.290935e+03\n",
            "75%      1.191529e+04\n",
            "max      3.286171e+06\n",
            "Name: sales_dollars_L52wk, dtype: float64\n"
          ]
        }
      ]
    },
    {
      "cell_type": "code",
      "source": [
        "import pandas as pd\n",
        "import numpy as np\n",
        "\n",
        "# Calculate the overall median for `points_of_distribution_L52wk` from the entire dataset\n",
        "overall_median_pod = df['points_of_distribution_L52wk'].median(skipna=True)\n",
        "\n",
        "# Step 1: Calculate `avg_pod` for each `item_code`\n",
        "store_1012['avg_pod'] = store_1012['item_code'].map(\n",
        "    df.groupby('item_code')['points_of_distribution_L52wk'].apply(\n",
        "        lambda x: overall_median_pod if x.isna().all() else x.mean(skipna=True)\n",
        "    )\n",
        ")\n",
        "\n",
        "# Step 2: Normalize `normalized_households` if it isn't already normalized\n",
        "store_1012['normalized_households'] = store_1012.groupby('item_code')['normalized_households'].transform(\n",
        "    lambda x: x / x.max() if x.max() > 0 else x\n",
        ")\n",
        "\n",
        "# Step 3: Calculate `pod_adjusted` using `avg_pod` and `normalized_households`\n",
        "store_1012['pod_adjusted'] = store_1012['avg_pod'] * store_1012['normalized_households']\n",
        "\n",
        "# Step 4: Replace missing values in `points_of_distribution_L52wk` with `pod_adjusted`\n",
        "store_1012['points_of_distribution_L52wk'] = np.where(\n",
        "    store_1012['points_of_distribution_L52wk'].isna(),\n",
        "    store_1012['pod_adjusted'],\n",
        "    store_1012['points_of_distribution_L52wk']\n",
        ")\n",
        "\n",
        "#Drop intermediate columns\n",
        "store_1012.drop(['avg_pod', 'pod_adjusted'], axis=1, inplace=True)\n",
        "\n",
        "# Output summary of the `points_of_distribution_L52wk` column\n",
        "print(store_1012['points_of_distribution_L52wk'].describe())\n"
      ],
      "metadata": {
        "colab": {
          "base_uri": "https://localhost:8080/"
        },
        "id": "wQjfVG_GAoo2",
        "outputId": "674e29a9-7e7d-4844-876e-8ae6ee2d8f83"
      },
      "execution_count": 19,
      "outputs": [
        {
          "output_type": "stream",
          "name": "stdout",
          "text": [
            "count    1914.000000\n",
            "mean      164.429242\n",
            "std       272.083350\n",
            "min         0.000000\n",
            "25%        31.588738\n",
            "50%       104.254843\n",
            "75%       189.892000\n",
            "max      4151.171091\n",
            "Name: points_of_distribution_L52wk, dtype: float64\n"
          ]
        }
      ]
    },
    {
      "cell_type": "code",
      "source": [
        "store_1012['sales_per_store'] = np.where(\n",
        "    store_1012['points_of_distribution_L52wk'] == 0,  # Check if points_of_distribution_L52wk is 0\n",
        "    0,  # If true, set sales_per_store to 0\n",
        "    store_1012['sales_dollars_L52wk'] / store_1012['points_of_distribution_L52wk']  # Otherwise, calculate the ratio\n",
        ")"
      ],
      "metadata": {
        "id": "E4Ml-jEUFLn1"
      },
      "execution_count": 23,
      "outputs": []
    },
    {
      "cell_type": "code",
      "source": [
        "store_1012['L52W_in_Stock'] = store_1012['L52W_in_Stock'].fillna(52)"
      ],
      "metadata": {
        "id": "zEJq1ASxb4Pl"
      },
      "execution_count": 24,
      "outputs": []
    },
    {
      "cell_type": "code",
      "source": [
        "print(store_1012.isna().sum())"
      ],
      "metadata": {
        "colab": {
          "base_uri": "https://localhost:8080/"
        },
        "id": "2rZwaNd3RUIB",
        "outputId": "e12d61f3-171d-44a1-88cc-5acfbdcdf01c"
      },
      "execution_count": 25,
      "outputs": [
        {
          "output_type": "stream",
          "name": "stdout",
          "text": [
            "state                              0\n",
            "item_code                          0\n",
            "package_type                       0\n",
            "sales_dollars_L52wk                0\n",
            "points_of_distribution_L52wk       0\n",
            "store_number                       0\n",
            "Retail                             0\n",
            "L52W_in_Stock                      0\n",
            "Normalized_Sales_L52W           1649\n",
            "Sales_Bucket                       0\n",
            "PriceZone                          0\n",
            "Store_Size                         0\n",
            "HH_Income>100K                     0\n",
            "Median_HH_Income                   0\n",
            "Average_NetWorth                   0\n",
            "HaveBA                             0\n",
            "Hispanic                           0\n",
            "Asian                              0\n",
            "AfricanAmerican                    0\n",
            "PopulationAge_50-70                0\n",
            "TequilaUnder65                     0\n",
            "TequilaOver65                      0\n",
            "tequila_category                   0\n",
            "price_per_100_ml                   0\n",
            "normalized_households              0\n",
            "price_band                         0\n",
            "volatility_score                   0\n",
            "households_density                 0\n",
            "celebrity_owned                    0\n",
            "Income_Category                    0\n",
            "sales_per_store                    0\n",
            "years_open                         0\n",
            "search_anejo_tequila               0\n",
            "score_tequila_trends               0\n",
            "search_reposado_tequila            0\n",
            "search_silver_tequila              0\n",
            "search_cheap_tequila               0\n",
            "search_best_tequila                0\n",
            "dtype: int64\n"
          ]
        }
      ]
    },
    {
      "cell_type": "code",
      "source": [
        "# Save the DataFrame to an Excel file\n",
        "store_1012.to_excel('/content/drive/MyDrive/test/store_1012.xlsx', index=False)"
      ],
      "metadata": {
        "id": "YD2KJT49-JIs"
      },
      "execution_count": 26,
      "outputs": []
    },
    {
      "cell_type": "code",
      "source": [],
      "metadata": {
        "id": "8gmHwZWZG2If"
      },
      "execution_count": null,
      "outputs": []
    }
  ]
}